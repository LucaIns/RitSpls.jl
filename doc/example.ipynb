{
  "cells": [
    {
      "cell_type": "markdown",
      "id": "aef4281c",
      "metadata": {
        "id": "aef4281c"
      },
      "source": [
        "RitSpls Example\n",
        "================\n",
        "\n",
        "The `RitSpls` package is written to be consistent with `ScikitLearn.jl`, such that widely used functions from ScikitLearn can be applied to it (e.g., `SPLS` and `GSSPP` objects).\n",
        "\n",
        "\n",
        "Install the `RitSpls` package and check the key functions:"
      ]
    },
    {
      "cell_type": "code",
      "execution_count": null,
      "id": "3511c963",
      "metadata": {
        "id": "3511c963",
        "outputId": "6bee14d0-e64f-4f56-91bd-d5d4fa1ca4f2"
      },
      "outputs": [
        {
          "name": "stdout",
          "output_type": "stream",
          "text": [
            "typeof(predint)"
          ]
        }
      ],
      "source": [
        "using RitSpls\n",
        "print(isdefined(RitSpls, :SPLS))\n",
        "print(isdefined(RitSpls, :GSSPP))\n",
        "print(isdefined(RitSpls, :wrap))"
      ]
    },
    {
      "cell_type": "markdown",
      "id": "e543a010",
      "metadata": {
        "id": "e543a010"
      },
      "source": [
        "1) Set up environment and load data\n",
        "---------------------------------"
      ]
    },
    {
      "cell_type": "markdown",
      "id": "a93a1f24",
      "metadata": {
        "id": "a93a1f24"
      },
      "source": [
        "Load dependencies"
      ]
    },
    {
      "cell_type": "code",
      "execution_count": null,
      "id": "3ec67915",
      "metadata": {
        "id": "3ec67915"
      },
      "outputs": [],
      "source": [
        "using CSV\n",
        "using DataFrames\n",
        "using ScikitLearn\n",
        "using ScikitLearnBase\n",
        "import ScikitLearn.GridSearch:GridSearchCV"
      ]
    },
    {
      "cell_type": "markdown",
      "id": "714aa432",
      "metadata": {
        "id": "714aa432"
      },
      "source": [
        "Load data"
      ]
    },
    {
      "cell_type": "code",
      "execution_count": null,
      "id": "2ec97ffc",
      "metadata": {
        "id": "2ec97ffc"
      },
      "outputs": [],
      "source": [
        "# main_path = \"YOUR_PATH\"\n",
        "# cd(main_path)\n",
        "Xf = CSV.read(\"./data/Xfearncal.csv\", DataFrame, header=0)\n",
        "yf = CSV.read(\"./data/Yfearncal.csv\", DataFrame, header=0)"
      ]
    },
    {
      "cell_type": "markdown",
      "id": "ec7cafb4",
      "metadata": {
        "id": "ec7cafb4"
      },
      "source": [
        "# 2) Robustness-inducing transformations\n",
        "--------------------------------------"
      ]
    },
    {
      "cell_type": "markdown",
      "source": [
        "Generalized spatial sign transformation of the predictors."
      ],
      "metadata": {
        "id": "ARmCX4j8s9g5"
      },
      "id": "ARmCX4j8s9g5"
    },
    {
      "cell_type": "code",
      "execution_count": null,
      "id": "336bdd6e",
      "metadata": {
        "id": "336bdd6e"
      },
      "outputs": [],
      "source": [
        "# GSS pre-processing transformation\n",
        "gsspp_X = RitSpls.GSSPP()\n",
        "Xpp = ScikitLearn.fit_transform!(gsspp_X, Xf)\n",
        "\n",
        "# compare with original (centered) predictors\n",
        "loc = RitSpls.kstepLTS(Matrix(Xf))\n",
        "Xcentered = autoscale(Matrix(Xf), loc, \"none\").X_as_\n",
        "Xpp .- Xcentered"
      ]
    },
    {
      "cell_type": "markdown",
      "source": [
        "Wrapping transformation of the predictand:"
      ],
      "metadata": {
        "id": "0AdcmAqrtHCY"
      },
      "id": "0AdcmAqrtHCY"
    },
    {
      "cell_type": "code",
      "source": [
        "# wrapping pre-processing transformation\n",
        "ywrap = RitSpls.wrap(yf)\n",
        "ypp = ywrap.wrapX[1]\n",
        "\n",
        "# compare with original predictand\n",
        "ypp .- yf"
      ],
      "metadata": {
        "id": "lGXnWMHwtGpa"
      },
      "id": "lGXnWMHwtGpa",
      "execution_count": null,
      "outputs": []
    },
    {
      "cell_type": "markdown",
      "id": "0dd6337c",
      "metadata": {
        "id": "0dd6337c"
      },
      "source": [
        "3) SPLS on pre-processed data using cross-validation\n",
        "-------------------"
      ]
    },
    {
      "cell_type": "markdown",
      "id": "21349f0b",
      "metadata": {
        "id": "21349f0b"
      },
      "source": [
        "Estimate an SPLS model on robustly transformed data using cross validation."
      ]
    },
    {
      "cell_type": "code",
      "execution_count": null,
      "id": "a298516f",
      "metadata": {
        "id": "a298516f"
      },
      "outputs": [],
      "source": [
        "cv_folds = 2\n",
        "n_comp_range = collect(1:4);\n",
        "eta_range = collect(0.9:-0.2:0.1)\n",
        "\n",
        "ritSPLSreg = RitSpls.SPLS()\n",
        "RitSpls.set_params_dict!(ritSPLSreg, Dict(:fit_algorithm=>\"snipls\", :verbose => false))\n",
        "gridsearch = GridSearchCV(ritSPLSreg, cv=cv_folds, Dict(:eta => 0.5, :n_components => 3))\n",
        "solfit = ScikitLearn.fit!(gridsearch,Xpp,ypp)\n",
        "fit!(solfit,Xpp,ypp)\n",
        "\n",
        "println(solfit.best_estimator_.n_components)\n",
        "println(solfit.best_estimator_.eta)"
      ]
    }
  ],
  "metadata": {
    "kernelspec": {
      "display_name": "Julia 1.9.0",
      "language": "julia",
      "name": "julia-1.9"
    },
    "language_info": {
      "file_extension": ".jl",
      "mimetype": "application/julia",
      "name": "julia",
      "version": "1.9.0"
    },
    "colab": {
      "provenance": []
    }
  },
  "nbformat": 4,
  "nbformat_minor": 5
}