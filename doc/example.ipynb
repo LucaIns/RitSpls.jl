{
 "cells": [
  {
   "cell_type": "markdown",
   "id": "aef4281c",
   "metadata": {
    "id": "aef4281c"
   },
   "source": [
    "RitSpls Example\n",
    "================\n",
    "\n",
    "The `RitSpls` package is written to be consistent with `ScikitLearn.jl`, such that widely used functions from ScikitLearn can be applied to it (e.g., `SPLS` and `GSSPP` objects).\n",
    "\n",
    "\n",
    "Install the `RitSpls` package and check the key functions:"
   ]
  },
  {
   "cell_type": "code",
   "execution_count": 2,
   "id": "3511c963",
   "metadata": {
    "id": "3511c963",
    "outputId": "6bee14d0-e64f-4f56-91bd-d5d4fa1ca4f2"
   },
   "outputs": [
    {
     "name": "stdout",
     "output_type": "stream",
     "text": [
      "truetruetrue"
     ]
    }
   ],
   "source": [
    "using Pkg\n",
    "Pkg.instantiate()\n",
    "using RitSpls\n",
    "print(isdefined(RitSpls, :SPLS))\n",
    "print(isdefined(RitSpls, :GSSPP))\n",
    "print(isdefined(RitSpls, :wrap))"
   ]
  },
  {
   "cell_type": "markdown",
   "id": "e543a010",
   "metadata": {
    "id": "e543a010"
   },
   "source": [
    "1) Set up environment and load data\n",
    "---------------------------------"
   ]
  },
  {
   "cell_type": "markdown",
   "id": "a93a1f24",
   "metadata": {
    "id": "a93a1f24"
   },
   "source": [
    "Load dependencies"
   ]
  },
  {
   "cell_type": "code",
   "execution_count": 4,
   "id": "3ec67915",
   "metadata": {
    "id": "3ec67915"
   },
   "outputs": [],
   "source": [
    "using CSV\n",
    "using DataFrames\n",
    "using ScikitLearn\n",
    "using ScikitLearnBase\n",
    "import ScikitLearn.GridSearch:GridSearchCV"
   ]
  },
  {
   "cell_type": "markdown",
   "id": "714aa432",
   "metadata": {
    "id": "714aa432"
   },
   "source": [
    "Load data"
   ]
  },
  {
   "cell_type": "code",
   "execution_count": 5,
   "id": "2ec97ffc",
   "metadata": {
    "id": "2ec97ffc"
   },
   "outputs": [
    {
     "data": {
      "text/html": [
       "<div><div style = \"float: left;\"><span>24×1 DataFrame</span></div><div style = \"clear: both;\"></div></div><div class = \"data-frame\" style = \"overflow-x: scroll;\"><table class = \"data-frame\" style = \"margin-bottom: 6px;\"><thead><tr class = \"header\"><th class = \"rowNumber\" style = \"font-weight: bold; text-align: right;\">Row</th><th style = \"text-align: left;\">Column1</th></tr><tr class = \"subheader headerLastRow\"><th class = \"rowNumber\" style = \"font-weight: bold; text-align: right;\"></th><th title = \"Float64\" style = \"text-align: left;\">Float64</th></tr></thead><tbody><tr><td class = \"rowNumber\" style = \"font-weight: bold; text-align: right;\">1</td><td style = \"text-align: right;\">9.23</td></tr><tr><td class = \"rowNumber\" style = \"font-weight: bold; text-align: right;\">2</td><td style = \"text-align: right;\">8.01</td></tr><tr><td class = \"rowNumber\" style = \"font-weight: bold; text-align: right;\">3</td><td style = \"text-align: right;\">10.95</td></tr><tr><td class = \"rowNumber\" style = \"font-weight: bold; text-align: right;\">4</td><td style = \"text-align: right;\">11.67</td></tr><tr><td class = \"rowNumber\" style = \"font-weight: bold; text-align: right;\">5</td><td style = \"text-align: right;\">10.41</td></tr><tr><td class = \"rowNumber\" style = \"font-weight: bold; text-align: right;\">6</td><td style = \"text-align: right;\">9.51</td></tr><tr><td class = \"rowNumber\" style = \"font-weight: bold; text-align: right;\">7</td><td style = \"text-align: right;\">8.67</td></tr><tr><td class = \"rowNumber\" style = \"font-weight: bold; text-align: right;\">8</td><td style = \"text-align: right;\">7.75</td></tr><tr><td class = \"rowNumber\" style = \"font-weight: bold; text-align: right;\">9</td><td style = \"text-align: right;\">8.05</td></tr><tr><td class = \"rowNumber\" style = \"font-weight: bold; text-align: right;\">10</td><td style = \"text-align: right;\">11.39</td></tr><tr><td class = \"rowNumber\" style = \"font-weight: bold; text-align: right;\">11</td><td style = \"text-align: right;\">9.95</td></tr><tr><td class = \"rowNumber\" style = \"font-weight: bold; text-align: right;\">12</td><td style = \"text-align: right;\">8.25</td></tr><tr><td class = \"rowNumber\" style = \"font-weight: bold; text-align: right;\">13</td><td style = \"text-align: right;\">10.57</td></tr><tr><td class = \"rowNumber\" style = \"font-weight: bold; text-align: right;\">14</td><td style = \"text-align: right;\">10.23</td></tr><tr><td class = \"rowNumber\" style = \"font-weight: bold; text-align: right;\">15</td><td style = \"text-align: right;\">11.87</td></tr><tr><td class = \"rowNumber\" style = \"font-weight: bold; text-align: right;\">16</td><td style = \"text-align: right;\">8.09</td></tr><tr><td class = \"rowNumber\" style = \"font-weight: bold; text-align: right;\">17</td><td style = \"text-align: right;\">12.55</td></tr><tr><td class = \"rowNumber\" style = \"font-weight: bold; text-align: right;\">18</td><td style = \"text-align: right;\">8.38</td></tr><tr><td class = \"rowNumber\" style = \"font-weight: bold; text-align: right;\">19</td><td style = \"text-align: right;\">9.64</td></tr><tr><td class = \"rowNumber\" style = \"font-weight: bold; text-align: right;\">20</td><td style = \"text-align: right;\">11.35</td></tr><tr><td class = \"rowNumber\" style = \"font-weight: bold; text-align: right;\">21</td><td style = \"text-align: right;\">9.7</td></tr><tr><td class = \"rowNumber\" style = \"font-weight: bold; text-align: right;\">22</td><td style = \"text-align: right;\">10.75</td></tr><tr><td class = \"rowNumber\" style = \"font-weight: bold; text-align: right;\">23</td><td style = \"text-align: right;\">10.75</td></tr><tr><td class = \"rowNumber\" style = \"font-weight: bold; text-align: right;\">24</td><td style = \"text-align: right;\">11.47</td></tr></tbody></table></div>"
      ],
      "text/latex": [
       "\\begin{tabular}{r|c}\n",
       "\t& Column1\\\\\n",
       "\t\\hline\n",
       "\t& Float64\\\\\n",
       "\t\\hline\n",
       "\t1 & 9.23 \\\\\n",
       "\t2 & 8.01 \\\\\n",
       "\t3 & 10.95 \\\\\n",
       "\t4 & 11.67 \\\\\n",
       "\t5 & 10.41 \\\\\n",
       "\t6 & 9.51 \\\\\n",
       "\t7 & 8.67 \\\\\n",
       "\t8 & 7.75 \\\\\n",
       "\t9 & 8.05 \\\\\n",
       "\t10 & 11.39 \\\\\n",
       "\t11 & 9.95 \\\\\n",
       "\t12 & 8.25 \\\\\n",
       "\t13 & 10.57 \\\\\n",
       "\t14 & 10.23 \\\\\n",
       "\t15 & 11.87 \\\\\n",
       "\t16 & 8.09 \\\\\n",
       "\t17 & 12.55 \\\\\n",
       "\t18 & 8.38 \\\\\n",
       "\t19 & 9.64 \\\\\n",
       "\t20 & 11.35 \\\\\n",
       "\t21 & 9.7 \\\\\n",
       "\t22 & 10.75 \\\\\n",
       "\t23 & 10.75 \\\\\n",
       "\t24 & 11.47 \\\\\n",
       "\\end{tabular}\n"
      ],
      "text/plain": [
       "\u001b[1m24×1 DataFrame\u001b[0m\n",
       "\u001b[1m Row \u001b[0m│\u001b[1m Column1 \u001b[0m\n",
       "     │\u001b[90m Float64 \u001b[0m\n",
       "─────┼─────────\n",
       "   1 │    9.23\n",
       "   2 │    8.01\n",
       "   3 │   10.95\n",
       "   4 │   11.67\n",
       "   5 │   10.41\n",
       "   6 │    9.51\n",
       "   7 │    8.67\n",
       "   8 │    7.75\n",
       "   9 │    8.05\n",
       "  10 │   11.39\n",
       "  11 │    9.95\n",
       "  ⋮  │    ⋮\n",
       "  15 │   11.87\n",
       "  16 │    8.09\n",
       "  17 │   12.55\n",
       "  18 │    8.38\n",
       "  19 │    9.64\n",
       "  20 │   11.35\n",
       "  21 │    9.7\n",
       "  22 │   10.75\n",
       "  23 │   10.75\n",
       "  24 │   11.47\n",
       "\u001b[36m 3 rows omitted\u001b[0m"
      ]
     },
     "execution_count": 5,
     "metadata": {},
     "output_type": "execute_result"
    }
   ],
   "source": [
    "# main_path = \"YOUR_PATH\"\n",
    "# cd(main_path)\n",
    "Xf = CSV.read(\"../data/Xfearncal.csv\", DataFrame, header=0)\n",
    "yf = CSV.read(\"../data/Yfearncal.csv\", DataFrame, header=0)"
   ]
  },
  {
   "cell_type": "markdown",
   "id": "ec7cafb4",
   "metadata": {
    "id": "ec7cafb4"
   },
   "source": [
    "# 2) Robustness-inducing transformations\n",
    "--------------------------------------"
   ]
  },
  {
   "cell_type": "markdown",
   "id": "ARmCX4j8s9g5",
   "metadata": {
    "id": "ARmCX4j8s9g5"
   },
   "source": [
    "Generalized spatial sign transformation of the predictors."
   ]
  },
  {
   "cell_type": "code",
   "execution_count": 6,
   "id": "336bdd6e",
   "metadata": {
    "id": "336bdd6e"
   },
   "outputs": [
    {
     "data": {
      "text/plain": [
       "24×6 Matrix{Float64}:\n",
       "    0.0        0.0         0.0         0.0        0.0       0.0\n",
       "    0.0        0.0         0.0         0.0        0.0       0.0\n",
       "    0.0        0.0         0.0         0.0        0.0       0.0\n",
       "    0.0        0.0         0.0         0.0        0.0       0.0\n",
       "    0.0        0.0         0.0         0.0        0.0       0.0\n",
       "    0.0        0.0         0.0         0.0        0.0       0.0\n",
       "    0.0        0.0         0.0         0.0        0.0       0.0\n",
       "    0.0        0.0         0.0         0.0        0.0       0.0\n",
       "    0.0        0.0         0.0         0.0        0.0       0.0\n",
       "    0.0        0.0         0.0         0.0        0.0       0.0\n",
       "    0.0        0.0         0.0         0.0        0.0       0.0\n",
       "    0.0        0.0         0.0         0.0        0.0       0.0\n",
       "  -18.8805   -16.3169    -18.0145    -18.0491   -29.8971   -9.80402\n",
       "  -27.7658   -24.4357    -26.1008    -26.6858   -42.6163  -16.5155\n",
       "  -67.3599   -59.3425    -62.5626    -60.2625   -75.6403  -34.37\n",
       "   -7.94944   -6.33777    -6.88225    -9.2562   -20.8863   -5.90219\n",
       " -113.493    -97.0534   -104.368    -101.729   -138.378   -56.6333\n",
       "    0.0        0.0         0.0         0.0        0.0       0.0\n",
       "    0.0        0.0         0.0         0.0        0.0       0.0\n",
       "    0.0        0.0         0.0         0.0        0.0       0.0\n",
       "    0.0        0.0         0.0         0.0        0.0       0.0\n",
       "  -15.0539   -13.8744    -15.0228    -14.3089   -27.5315   -9.15647\n",
       "    0.0        0.0         0.0         0.0        0.0       0.0\n",
       "    0.0        0.0         0.0         0.0        0.0       0.0"
      ]
     },
     "execution_count": 6,
     "metadata": {},
     "output_type": "execute_result"
    }
   ],
   "source": [
    "# GSS pre-processing transformation\n",
    "gsspp_X = GSSPP()\n",
    "Xpp = ScikitLearn.fit_transform!(gsspp_X, Xf)\n",
    "\n",
    "# compare with original (centered) predictors\n",
    "loc = kstepLTS(Matrix(Xf))\n",
    "Xcentered = autoscale(Matrix(Xf), loc, \"none\").X_as_\n",
    "Xpp .- Xcentered"
   ]
  },
  {
   "cell_type": "markdown",
   "id": "0AdcmAqrtHCY",
   "metadata": {
    "id": "0AdcmAqrtHCY"
   },
   "source": [
    "Wrapping transformation of the predictand:"
   ]
  },
  {
   "cell_type": "code",
   "execution_count": 8,
   "id": "lGXnWMHwtGpa",
   "metadata": {
    "id": "lGXnWMHwtGpa"
   },
   "outputs": [
    {
     "data": {
      "text/html": [
       "<div><div style = \"float: left;\"><span>24×1 DataFrame</span></div><div style = \"clear: both;\"></div></div><div class = \"data-frame\" style = \"overflow-x: scroll;\"><table class = \"data-frame\" style = \"margin-bottom: 6px;\"><thead><tr class = \"header\"><th class = \"rowNumber\" style = \"font-weight: bold; text-align: right;\">Row</th><th style = \"text-align: left;\">Column1</th></tr><tr class = \"subheader headerLastRow\"><th class = \"rowNumber\" style = \"font-weight: bold; text-align: right;\"></th><th title = \"Float64\" style = \"text-align: left;\">Float64</th></tr></thead><tbody><tr><td class = \"rowNumber\" style = \"font-weight: bold; text-align: right;\">1</td><td style = \"text-align: right;\">0.0</td></tr><tr><td class = \"rowNumber\" style = \"font-weight: bold; text-align: right;\">2</td><td style = \"text-align: right;\">0.0</td></tr><tr><td class = \"rowNumber\" style = \"font-weight: bold; text-align: right;\">3</td><td style = \"text-align: right;\">0.0</td></tr><tr><td class = \"rowNumber\" style = \"font-weight: bold; text-align: right;\">4</td><td style = \"text-align: right;\">0.0</td></tr><tr><td class = \"rowNumber\" style = \"font-weight: bold; text-align: right;\">5</td><td style = \"text-align: right;\">0.0</td></tr><tr><td class = \"rowNumber\" style = \"font-weight: bold; text-align: right;\">6</td><td style = \"text-align: right;\">0.0</td></tr><tr><td class = \"rowNumber\" style = \"font-weight: bold; text-align: right;\">7</td><td style = \"text-align: right;\">0.0</td></tr><tr><td class = \"rowNumber\" style = \"font-weight: bold; text-align: right;\">8</td><td style = \"text-align: right;\">0.0</td></tr><tr><td class = \"rowNumber\" style = \"font-weight: bold; text-align: right;\">9</td><td style = \"text-align: right;\">0.0</td></tr><tr><td class = \"rowNumber\" style = \"font-weight: bold; text-align: right;\">10</td><td style = \"text-align: right;\">0.0</td></tr><tr><td class = \"rowNumber\" style = \"font-weight: bold; text-align: right;\">11</td><td style = \"text-align: right;\">0.0</td></tr><tr><td class = \"rowNumber\" style = \"font-weight: bold; text-align: right;\">12</td><td style = \"text-align: right;\">0.0</td></tr><tr><td class = \"rowNumber\" style = \"font-weight: bold; text-align: right;\">13</td><td style = \"text-align: right;\">0.0</td></tr><tr><td class = \"rowNumber\" style = \"font-weight: bold; text-align: right;\">14</td><td style = \"text-align: right;\">0.0</td></tr><tr><td class = \"rowNumber\" style = \"font-weight: bold; text-align: right;\">15</td><td style = \"text-align: right;\">0.0</td></tr><tr><td class = \"rowNumber\" style = \"font-weight: bold; text-align: right;\">16</td><td style = \"text-align: right;\">0.0</td></tr><tr><td class = \"rowNumber\" style = \"font-weight: bold; text-align: right;\">17</td><td style = \"text-align: right;\">0.0</td></tr><tr><td class = \"rowNumber\" style = \"font-weight: bold; text-align: right;\">18</td><td style = \"text-align: right;\">0.0</td></tr><tr><td class = \"rowNumber\" style = \"font-weight: bold; text-align: right;\">19</td><td style = \"text-align: right;\">0.0</td></tr><tr><td class = \"rowNumber\" style = \"font-weight: bold; text-align: right;\">20</td><td style = \"text-align: right;\">0.0</td></tr><tr><td class = \"rowNumber\" style = \"font-weight: bold; text-align: right;\">21</td><td style = \"text-align: right;\">0.0</td></tr><tr><td class = \"rowNumber\" style = \"font-weight: bold; text-align: right;\">22</td><td style = \"text-align: right;\">0.0</td></tr><tr><td class = \"rowNumber\" style = \"font-weight: bold; text-align: right;\">23</td><td style = \"text-align: right;\">0.0</td></tr><tr><td class = \"rowNumber\" style = \"font-weight: bold; text-align: right;\">24</td><td style = \"text-align: right;\">0.0</td></tr></tbody></table></div>"
      ],
      "text/latex": [
       "\\begin{tabular}{r|c}\n",
       "\t& Column1\\\\\n",
       "\t\\hline\n",
       "\t& Float64\\\\\n",
       "\t\\hline\n",
       "\t1 & 0.0 \\\\\n",
       "\t2 & 0.0 \\\\\n",
       "\t3 & 0.0 \\\\\n",
       "\t4 & 0.0 \\\\\n",
       "\t5 & 0.0 \\\\\n",
       "\t6 & 0.0 \\\\\n",
       "\t7 & 0.0 \\\\\n",
       "\t8 & 0.0 \\\\\n",
       "\t9 & 0.0 \\\\\n",
       "\t10 & 0.0 \\\\\n",
       "\t11 & 0.0 \\\\\n",
       "\t12 & 0.0 \\\\\n",
       "\t13 & 0.0 \\\\\n",
       "\t14 & 0.0 \\\\\n",
       "\t15 & 0.0 \\\\\n",
       "\t16 & 0.0 \\\\\n",
       "\t17 & 0.0 \\\\\n",
       "\t18 & 0.0 \\\\\n",
       "\t19 & 0.0 \\\\\n",
       "\t20 & 0.0 \\\\\n",
       "\t21 & 0.0 \\\\\n",
       "\t22 & 0.0 \\\\\n",
       "\t23 & 0.0 \\\\\n",
       "\t24 & 0.0 \\\\\n",
       "\\end{tabular}\n"
      ],
      "text/plain": [
       "\u001b[1m24×1 DataFrame\u001b[0m\n",
       "\u001b[1m Row \u001b[0m│\u001b[1m Column1 \u001b[0m\n",
       "     │\u001b[90m Float64 \u001b[0m\n",
       "─────┼─────────\n",
       "   1 │     0.0\n",
       "   2 │     0.0\n",
       "   3 │     0.0\n",
       "   4 │     0.0\n",
       "   5 │     0.0\n",
       "   6 │     0.0\n",
       "   7 │     0.0\n",
       "   8 │     0.0\n",
       "   9 │     0.0\n",
       "  10 │     0.0\n",
       "  11 │     0.0\n",
       "  ⋮  │    ⋮\n",
       "  15 │     0.0\n",
       "  16 │     0.0\n",
       "  17 │     0.0\n",
       "  18 │     0.0\n",
       "  19 │     0.0\n",
       "  20 │     0.0\n",
       "  21 │     0.0\n",
       "  22 │     0.0\n",
       "  23 │     0.0\n",
       "  24 │     0.0\n",
       "\u001b[36m 3 rows omitted\u001b[0m"
      ]
     },
     "execution_count": 8,
     "metadata": {},
     "output_type": "execute_result"
    }
   ],
   "source": [
    "# wrapping pre-processing transformation\n",
    "ywrap = wrap(yf)\n",
    "ypp = ywrap.wrapX[1]\n",
    "\n",
    "# compare with original predictand\n",
    "ypp .- yf"
   ]
  },
  {
   "cell_type": "markdown",
   "id": "0dd6337c",
   "metadata": {
    "id": "0dd6337c"
   },
   "source": [
    "3) SPLS on pre-processed data using cross-validation\n",
    "-------------------"
   ]
  },
  {
   "cell_type": "markdown",
   "id": "21349f0b",
   "metadata": {
    "id": "21349f0b"
   },
   "source": [
    "Estimate an SPLS model on robustly transformed data using cross validation."
   ]
  },
  {
   "cell_type": "code",
   "execution_count": 9,
   "id": "a298516f",
   "metadata": {
    "id": "a298516f"
   },
   "outputs": [
    {
     "name": "stdout",
     "output_type": "stream",
     "text": [
      "Dict{Symbol, Any}(:eta => 0.5, :n_components => 3)\n"
     ]
    },
    {
     "data": {
      "text/plain": [
       "24-element Vector{Float64}:\n",
       "  9.409796648688022\n",
       "  8.172529462341041\n",
       " 11.01874562886803\n",
       " 11.636839881788624\n",
       " 10.01583122073436\n",
       "  9.395874649112235\n",
       "  9.264237922156454\n",
       "  8.136281688624493\n",
       "  7.990493469016813\n",
       " 11.657795691197707\n",
       " 10.074402080468216\n",
       "  8.242866126810235\n",
       " 10.140573184537436\n",
       " 10.067942104121313\n",
       " 10.088876525134218\n",
       "  8.894444804307824\n",
       "  9.829343856277692\n",
       "  9.367213895065781\n",
       " 10.306780996969687\n",
       " 11.818308290060616\n",
       " 10.16856458274426\n",
       " 10.513834388178932\n",
       " 11.088357502180969\n",
       " 11.890065400615066"
      ]
     },
     "execution_count": 9,
     "metadata": {},
     "output_type": "execute_result"
    }
   ],
   "source": [
    "cv_folds = 2\n",
    "n_comp_range = collect(1:4);\n",
    "eta_range = collect(0.9:-0.2:0.1)\n",
    "\n",
    "ritSPLSreg = RitSpls.SPLS()\n",
    "RitSpls.set_params_dict!(ritSPLSreg, Dict(:fit_algorithm=>\"snipls\", :verbose => false))\n",
    "gridsearch = GridSearchCV(ritSPLSreg, cv=cv_folds, Dict(:eta => 0.5, :n_components => 3))\n",
    "solfit = ScikitLearn.fit!(gridsearch,Xpp,ypp)\n",
    "fit!(solfit,Xpp,ypp)\n",
    "\n",
    "println(solfit.best_params_)\n",
    "predict(solfit,Xpp)"
   ]
  },
  {
   "cell_type": "code",
   "execution_count": null,
   "id": "0626b2fe",
   "metadata": {},
   "outputs": [],
   "source": []
  }
 ],
 "metadata": {
  "colab": {
   "provenance": []
  },
  "kernelspec": {
   "display_name": "Julia 1.9.0",
   "language": "julia",
   "name": "julia-1.9"
  },
  "language_info": {
   "file_extension": ".jl",
   "mimetype": "application/julia",
   "name": "julia",
   "version": "1.9.0"
  }
 },
 "nbformat": 4,
 "nbformat_minor": 5
}
